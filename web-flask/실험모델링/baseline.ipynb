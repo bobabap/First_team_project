{
 "cells": [
  {
   "cell_type": "code",
   "execution_count": 137,
   "metadata": {},
   "outputs": [
    {
     "ename": "TypeError",
     "evalue": "'module' object is not callable",
     "output_type": "error",
     "traceback": [
      "\u001b[0;31m---------------------------------------------------------------------------\u001b[0m",
      "\u001b[0;31mTypeError\u001b[0m                                 Traceback (most recent call last)",
      "\u001b[1;32m/Users/jinyoochan/Desktop/CP1/flask_app/baseline.ipynb Cell 1'\u001b[0m in \u001b[0;36m<cell line: 11>\u001b[0;34m()\u001b[0m\n\u001b[1;32m      <a href='vscode-notebook-cell:/Users/jinyoochan/Desktop/CP1/flask_app/baseline.ipynb#ch0000000?line=8'>9</a>\u001b[0m \u001b[39mimport\u001b[39;00m \u001b[39mwarnings\u001b[39;00m\n\u001b[1;32m     <a href='vscode-notebook-cell:/Users/jinyoochan/Desktop/CP1/flask_app/baseline.ipynb#ch0000000?line=9'>10</a>\u001b[0m warnings\u001b[39m.\u001b[39mfilterwarnings(action\u001b[39m=\u001b[39m\u001b[39m'\u001b[39m\u001b[39mignore\u001b[39m\u001b[39m'\u001b[39m)\n\u001b[0;32m---> <a href='vscode-notebook-cell:/Users/jinyoochan/Desktop/CP1/flask_app/baseline.ipynb#ch0000000?line=10'>11</a>\u001b[0m os\u001b[39m.\u001b[39;49mpath(\u001b[39m\"\u001b[39;49m\u001b[39mflask_app\u001b[39;49m\u001b[39m\"\u001b[39;49m)\n\u001b[1;32m     <a href='vscode-notebook-cell:/Users/jinyoochan/Desktop/CP1/flask_app/baseline.ipynb#ch0000000?line=12'>13</a>\u001b[0m \u001b[39m#머신러닝 모델링\u001b[39;00m\n\u001b[1;32m     <a href='vscode-notebook-cell:/Users/jinyoochan/Desktop/CP1/flask_app/baseline.ipynb#ch0000000?line=13'>14</a>\u001b[0m \u001b[39mfrom\u001b[39;00m \u001b[39msklearn\u001b[39;00m\u001b[39m.\u001b[39;00m\u001b[39mpipeline\u001b[39;00m \u001b[39mimport\u001b[39;00m make_pipeline\n",
      "\u001b[0;31mTypeError\u001b[0m: 'module' object is not callable"
     ]
    }
   ],
   "source": [
    "import random\n",
    "import pandas as pd\n",
    "import numpy as np\n",
    "import os \n",
    "import librosa\n",
    "from tqdm.auto import tqdm\n",
    "from sklearn.neural_network import MLPClassifier\n",
    "from sklearn.preprocessing import OneHotEncoder\n",
    "import warnings\n",
    "warnings.filterwarnings(action='ignore')\n",
    "\n",
    "#머신러닝 모델링\n",
    "from sklearn.pipeline import make_pipeline\n",
    "from sklearn.preprocessing import OrdinalEncoder\n",
    "from sklearn.impute import SimpleImputer\n",
    "from sklearn.ensemble import RandomForestClassifier\n",
    "from sklearn.feature_selection import SelectKBest\n",
    "from sklearn.model_selection import RandomizedSearchCV\n",
    "from sklearn.metrics import classification_report\n",
    "from sklearn.metrics import recall_score\n",
    "from sklearn.metrics import accuracy_score\n",
    "from scipy.stats import uniform\n",
    "import numpy as np\n",
    "\n",
    "#import xgboost"
   ]
  },
  {
   "cell_type": "code",
   "execution_count": null,
   "metadata": {},
   "outputs": [],
   "source": []
  },
  {
   "cell_type": "code",
   "execution_count": null,
   "metadata": {},
   "outputs": [],
   "source": [
    "CFG = {\n",
    "  \"SR\":16000,\n",
    "  \"N_MFCC\":32,\n",
    "  \"SEED\":41\n",
    "}"
   ]
  },
  {
   "cell_type": "markdown",
   "metadata": {},
   "source": [
    "Fixed Random-Seed"
   ]
  },
  {
   "cell_type": "code",
   "execution_count": null,
   "metadata": {},
   "outputs": [],
   "source": [
    "def seed_everything(seed):\n",
    "  random.seed(seed)\n",
    "  os.environ['PYTHONHASHSEED'] =str(seed)\n",
    "  np.random.seed(seed)\n",
    "\n",
    "seed_everything(CFG['SEED'])"
   ]
  },
  {
   "cell_type": "markdown",
   "metadata": {},
   "source": [
    "Data Pre-Processing 1"
   ]
  },
  {
   "cell_type": "code",
   "execution_count": null,
   "metadata": {},
   "outputs": [],
   "source": [
    "train_df = pd.read_csv('Data/train_data.csv')\n",
    "test_df = pd.read_csv(\"Data/train_data.csv\")"
   ]
  },
  {
   "cell_type": "code",
   "execution_count": null,
   "metadata": {},
   "outputs": [],
   "source": [
    "def get_mfcc_feature(df,data_type, save_path):\n",
    "  # Data Folder path\n",
    "  root_folder = 'open/wav_dataset'\n",
    "  if os.path.exists(save_path):\n",
    "    print(f'{save_path}is exist.')\n",
    "    return\n",
    "  features = []\n",
    "  for uid in tqdm(df['id']):\n",
    "    root_path = os.path.join(root_folder, data_type)\n",
    "    path = os.path.join(root_path, str(uid).zfill(5)+'.wav')\n",
    "\n",
    "    # librosa패키지를 사용하여 wav 파일 load\n",
    "    y, sr = librosa.load(path, sr=CFG[\"SR\"])\n",
    "\n",
    "    # librosa패키지를 사용하여 mfcc 추출\n",
    "    mfcc = librosa.feature.mfcc(y=y, sr=sr, n_mfcc=CFG['N_MFCC'])\n",
    "\n",
    "    y_feature = []\n",
    "    # 추출된 MFCC들의 평균을 Feature로 사용\n",
    "    for e in mfcc:\n",
    "      y_feature.append(np.mean(e))\n",
    "    features.append(y_feature)\n",
    "\n",
    "  #기존의 자가진단 정보를 담은 데이터프레임에 추출된 오디오 Feature를 추가\n",
    "  mfcc_df = pd.DataFrame(features, columns=['mfcc_'+str(x) for x in range(1,CFG[\"N_MFCC\"]+1)])\n",
    "  df = pd.concat([df, mfcc_df], axis=1)\n",
    "  df.to_csv(save_path, index=False)\n",
    "  print(\"Done\")"
   ]
  },
  {
   "cell_type": "code",
   "execution_count": null,
   "metadata": {},
   "outputs": [
    {
     "name": "stdout",
     "output_type": "stream",
     "text": [
      "Data/train_mfcc_data.csvis exist.\n",
      "Data/test_mfcc_data.csvis exist.\n"
     ]
    }
   ],
   "source": [
    "get_mfcc_feature(train_df, 'train', \"Data/train_mfcc_data.csv\")\n",
    "get_mfcc_feature(test_df,'test','Data/test_mfcc_data.csv')\n"
   ]
  },
  {
   "cell_type": "code",
   "execution_count": null,
   "metadata": {},
   "outputs": [],
   "source": [
    "# wav 파일의 MFCC Feature와 상태정보를 합친 학습데이터를 불러옵니다.\n",
    "train_df = pd.read_csv(\"Data/train_mfcc_data.csv\")\n",
    "\n",
    "# 학습데이터를 모델의 input으로 들어갈 x와 label로 사용할 y로 분할\n",
    "train_x = train_df.drop(columns=['id', 'covid19'])\n",
    "train_y = train_df['covid19']\n"
   ]
  },
  {
   "cell_type": "code",
   "execution_count": null,
   "metadata": {},
   "outputs": [],
   "source": [
    "def onehot_encoding(ohe, x):\n",
    "  # 학습데이터로부터 fit된 one-hot encoder (ohe)를 받아 transform 시켜주는 함수\n",
    "  encoded = ohe.transform(x['gender'].values.reshape(-1,1))\n",
    "  encoded_df = pd.DataFrame(encoded, columns=ohe.categories_[0])\n",
    "  x = pd.concat([x.drop(columns=['gender']), encoded_df], axis=1)\n",
    "  return x"
   ]
  },
  {
   "cell_type": "code",
   "execution_count": null,
   "metadata": {},
   "outputs": [],
   "source": [
    "ohe = OneHotEncoder(sparse=False)\n",
    "ohe.fit(train_x['gender'].values.reshape(-1,1))\n",
    "train_x = onehot_encoding(ohe,train_x)"
   ]
  },
  {
   "cell_type": "markdown",
   "metadata": {},
   "source": [
    "Modeling-2"
   ]
  },
  {
   "cell_type": "code",
   "execution_count": null,
   "metadata": {},
   "outputs": [
    {
     "data": {
      "text/plain": [
       "MLPClassifier(random_state=41)"
      ]
     },
     "execution_count": 133,
     "metadata": {},
     "output_type": "execute_result"
    }
   ],
   "source": [
    "model = MLPClassifier(random_state=CFG['SEED']) # Sklearn에서 제공하는 Multi-layer Perceptron classifier 사용\n",
    "model.fit(train_x, train_y) # Model Train"
   ]
  },
  {
   "cell_type": "code",
   "execution_count": null,
   "metadata": {},
   "outputs": [],
   "source": [
    "# 새로운 데이터 처리\n",
    "\n",
    "def new_get_mfcc(path,save_path):\n",
    "  #기존 파일 있을 경우\n",
    "  \"\"\"\n",
    "  if os.path.exists(save_path):\n",
    "    print(f'{save_path}is exist.')\n",
    "    return\n",
    "  \"\"\"\n",
    "\n",
    "  # 기침 이외의 정보\n",
    "  df = pd.read_csv(\"database.csv\")\n",
    "  df = df.fillna(0)\n",
    "\n",
    "  # librosa패키지를 사용하여 wav 파일 load\n",
    "  y, sr = librosa.load(path, sr=CFG[\"SR\"])\n",
    "\n",
    "  # librosa패키지를 사용하여 mfcc 추출\n",
    "  mfcc = librosa.feature.mfcc(y=y, sr=sr, n_mfcc=CFG['N_MFCC'])\n",
    "\n",
    "  \n",
    "  features = []\n",
    "  y_feature = []\n",
    "  # 추출된 MFCC들의 평균을 Feature로 사용\n",
    "  for e in mfcc:\n",
    "    y_feature.append(np.mean(e))\n",
    "  features.append(y_feature)\n",
    "\n",
    "  #기존의 자가진단 정보를 담은 데이터프레임에 추출된 오디오 Feature를 추가\n",
    "  mfcc_df = pd.DataFrame(features, columns=['mfcc_'+str(x) for x in range(1,CFG[\"N_MFCC\"]+1)])\n",
    "  df = pd.concat([df, mfcc_df], axis=1)\n",
    "  df.to_csv(save_path, index=False)\n",
    "  print(\"Done\")\n",
    "  "
   ]
  },
  {
   "cell_type": "code",
   "execution_count": null,
   "metadata": {},
   "outputs": [
    {
     "name": "stdout",
     "output_type": "stream",
     "text": [
      "Done\n"
     ]
    }
   ],
   "source": [
    "new_get_mfcc(\"/Users/jinyoochan/Desktop/CP1/flask_app/Data/wav_dataset/unlabeled/09538.wav\",'test1.csv')"
   ]
  },
  {
   "cell_type": "code",
   "execution_count": null,
   "metadata": {},
   "outputs": [
    {
     "name": "stdout",
     "output_type": "stream",
     "text": [
      "[1]\n"
     ]
    }
   ],
   "source": [
    "# 위의 학습데이터를 전처리한 과정과 동일하게 test data에도 적용\n",
    "test_x = pd.read_csv('test1.csv')\n",
    "test_x = test_x.drop(columns=['id'])\n",
    "# Data Leakage에 유의하여 train data로만 학습된 ohe를 사용\n",
    "test_x = onehot_encoding(ohe, test_x)\n",
    "\n",
    "# Model 추론\n",
    "preds = model.predict(test_x)\n",
    "print(preds)"
   ]
  }
 ],
 "metadata": {
  "interpreter": {
   "hash": "77a03e6adcee20ad49e44dd4943902a9236e0abe9fbc445ec96ade5e5a4a9a56"
  },
  "kernelspec": {
   "display_name": "Python 3.8.13",
   "language": "python",
   "name": "python3"
  },
  "language_info": {
   "codemirror_mode": {
    "name": "ipython",
    "version": 3
   },
   "file_extension": ".py",
   "mimetype": "text/x-python",
   "name": "python",
   "nbconvert_exporter": "python",
   "pygments_lexer": "ipython3",
   "version": "3.8.13"
  },
  "orig_nbformat": 4
 },
 "nbformat": 4,
 "nbformat_minor": 2
}
